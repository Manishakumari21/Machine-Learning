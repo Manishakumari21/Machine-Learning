{
 "cells": [
  {
   "cell_type": "code",
   "execution_count": 17,
   "id": "f9e2e175-e77a-4b8c-98ea-33f414958e8e",
   "metadata": {},
   "outputs": [],
   "source": [
    "#Importing numpy\n",
    "import numpy as np"
   ]
  },
  {
   "cell_type": "code",
   "execution_count": 18,
   "id": "bf648110-7039-468a-b9e6-8556b2fd4565",
   "metadata": {},
   "outputs": [],
   "source": [
    "# Adjusting the shape of X and Y data \n",
    "\n",
    "X=np.array([-2,1,3]).reshape(-1,1)\n",
    "Y=np.array([-1,1,2]).reshape(-1,1)"
   ]
  },
  {
   "cell_type": "code",
   "execution_count": 19,
   "id": "c2ebc83f-1da9-497d-b4c5-bbc822206376",
   "metadata": {},
   "outputs": [
    {
     "name": "stdout",
     "output_type": "stream",
     "text": [
      "[[ 1. -2.]\n",
      " [ 1.  1.]\n",
      " [ 1.  3.]]\n"
     ]
    }
   ],
   "source": [
    "#Adding a column of ones before X\n",
    "\n",
    "X= np.hstack([np.ones((X.shape[0],1)),X])\n",
    "print(X)\n"
   ]
  },
  {
   "cell_type": "code",
   "execution_count": 20,
   "id": "c1508cff-ec64-4aec-b4bf-25cc9e75e670",
   "metadata": {},
   "outputs": [
    {
     "name": "stdout",
     "output_type": "stream",
     "text": [
      "[[0.26315789]\n",
      " [0.60526316]]\n"
     ]
    }
   ],
   "source": [
    "# Calculating the coefficients\n",
    "\n",
    "a = np.linalg.inv(X.T.dot(X)).dot(X.T).dot(Y) #inverse\n",
    "print(a)"
   ]
  },
  {
   "cell_type": "code",
   "execution_count": 21,
   "id": "a1fc102f-5628-42a3-b60c-1f39d5f6504f",
   "metadata": {},
   "outputs": [],
   "source": [
    "# Creating a test sample\n",
    "\n",
    "x_test = np.array([1,4]).reshape(-1,1)"
   ]
  },
  {
   "cell_type": "code",
   "execution_count": 22,
   "id": "09c01b99-0c66-4fde-806f-80e61461834e",
   "metadata": {},
   "outputs": [],
   "source": [
    "# Making predictions for the test sample\n",
    "\n",
    "y_test = x_test.T.dot(a)"
   ]
  },
  {
   "cell_type": "code",
   "execution_count": 23,
   "id": "5157d452-51b9-43f1-b562-42078a3f6b4c",
   "metadata": {},
   "outputs": [
    {
     "name": "stdout",
     "output_type": "stream",
     "text": [
      "[[2.68421053]]\n"
     ]
    }
   ],
   "source": [
    "#Displaying the results\n",
    "\n",
    "print(y_test)"
   ]
  },
  {
   "cell_type": "code",
   "execution_count": 24,
   "id": "3b197105-6bed-49fe-92f7-ff01d47f788b",
   "metadata": {},
   "outputs": [],
   "source": [
    "x_test=4"
   ]
  },
  {
   "cell_type": "code",
   "execution_count": 25,
   "id": "19b4798b-f7b5-4c4a-81b6-43efab09e2e5",
   "metadata": {},
   "outputs": [
    {
     "name": "stdout",
     "output_type": "stream",
     "text": [
      "[2.68421053]\n"
     ]
    }
   ],
   "source": [
    "print(a[0] + a[1]*x_test)"
   ]
  },
  {
   "cell_type": "code",
   "execution_count": null,
   "id": "c7064da8-d8d4-46d0-8215-5f1b9ad60dde",
   "metadata": {},
   "outputs": [],
   "source": []
  }
 ],
 "metadata": {
  "kernelspec": {
   "display_name": "Python 3 (ipykernel)",
   "language": "python",
   "name": "python3"
  },
  "language_info": {
   "codemirror_mode": {
    "name": "ipython",
    "version": 3
   },
   "file_extension": ".py",
   "mimetype": "text/x-python",
   "name": "python",
   "nbconvert_exporter": "python",
   "pygments_lexer": "ipython3",
   "version": "3.13.3"
  }
 },
 "nbformat": 4,
 "nbformat_minor": 5
}
